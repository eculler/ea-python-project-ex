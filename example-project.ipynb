{
 "cells": [
  {
   "cell_type": "markdown",
   "id": "7f49a181",
   "metadata": {
    "toc": true
   },
   "source": [
    "<h1>Table of Contents<span class=\"tocSkip\"></span></h1>\n",
    "<div class=\"toc\"><ul class=\"toc-item\"></ul></div>"
   ]
  },
  {
   "cell_type": "markdown",
   "id": "238c2553",
   "metadata": {},
   "source": [
    "# Example Project\n",
    "The purpose of this project is to demonstrate making a GitHub repository from scratch"
   ]
  },
  {
   "cell_type": "code",
   "execution_count": 4,
   "id": "d5e26ec7",
   "metadata": {},
   "outputs": [
    {
     "name": "stdout",
     "output_type": "stream",
     "text": [
      "Hello World\n"
     ]
    }
   ],
   "source": [
    "print('Hello World')"
   ]
  },
  {
   "cell_type": "code",
   "execution_count": 5,
   "id": "313590a0",
   "metadata": {},
   "outputs": [
    {
     "data": {
      "text/plain": [
       "7"
      ]
     },
     "execution_count": 5,
     "metadata": {},
     "output_type": "execute_result"
    }
   ],
   "source": [
    "# Add some other numbers\n",
    "3 + 4"
   ]
  },
  {
   "cell_type": "markdown",
   "id": "1daca22b",
   "metadata": {},
   "source": [
    "# Here is a section"
   ]
  },
  {
   "cell_type": "code",
   "execution_count": null,
   "id": "b335d039",
   "metadata": {},
   "outputs": [],
   "source": [
    "# Add some numbers\n",
    "2 + 4"
   ]
  }
 ],
 "metadata": {
  "kernelspec": {
   "display_name": "Python 3 (ipykernel)",
   "language": "python",
   "name": "python3"
  },
  "language_info": {
   "codemirror_mode": {
    "name": "ipython",
    "version": 3
   },
   "file_extension": ".py",
   "mimetype": "text/x-python",
   "name": "python",
   "nbconvert_exporter": "python",
   "pygments_lexer": "ipython3",
   "version": "3.8.12"
  },
  "toc": {
   "base_numbering": 1,
   "nav_menu": {},
   "number_sections": true,
   "sideBar": true,
   "skip_h1_title": true,
   "title_cell": "Table of Contents",
   "title_sidebar": "Contents",
   "toc_cell": true,
   "toc_position": {},
   "toc_section_display": true,
   "toc_window_display": false
  }
 },
 "nbformat": 4,
 "nbformat_minor": 5
}
