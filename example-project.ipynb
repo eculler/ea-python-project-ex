{
 "cells": [
  {
   "cell_type": "markdown",
   "id": "7f49a181",
   "metadata": {
    "toc": true
   },
   "source": [
    "<h1>Table of Contents<span class=\"tocSkip\"></span></h1>\n",
    "<div class=\"toc\"><ul class=\"toc-item\"><li><span><a href=\"#Introduction\" data-toc-modified-id=\"Introduction-1\"><span class=\"toc-item-num\">1&nbsp;&nbsp;</span>Introduction</a></span></li></ul></div>"
   ]
  },
  {
   "cell_type": "markdown",
   "id": "238c2553",
   "metadata": {},
   "source": [
    "# Example Project\n",
    "The purpose of this project is to demonstrate making a GitHub repository from scratch\n",
    "\n",
    "## Introduction\n",
    "This project tests Python by printing messages and performing arithmetic."
   ]
  },
  {
   "cell_type": "code",
   "execution_count": null,
   "id": "d5e26ec7",
   "metadata": {},
   "outputs": [],
   "source": [
    "print('Hello World')"
   ]
  },
  {
   "cell_type": "code",
   "execution_count": null,
   "id": "42aee9fc",
   "metadata": {},
   "outputs": [],
   "source": [
    "# Add some other numbers\n",
    "3 + 4"
   ]
  },
  {
   "cell_type": "markdown",
   "id": "1daca22b",
   "metadata": {},
   "source": [
    "# Here is a section"
   ]
  },
  {
   "cell_type": "code",
   "execution_count": null,
   "id": "b335d039",
   "metadata": {},
   "outputs": [],
   "source": [
    "# Add some numbers\n",
    "2 + 4"
   ]
  },
  {
   "cell_type": "code",
   "execution_count": null,
   "id": "77fbc277",
   "metadata": {},
   "outputs": [],
   "source": [
    "print('Goodbye')"
   ]
  }
 ],
 "metadata": {
  "kernelspec": {
   "display_name": "Python 3 (ipykernel)",
   "language": "python",
   "name": "python3"
  },
  "language_info": {
   "codemirror_mode": {
    "name": "ipython",
    "version": 3
   },
   "file_extension": ".py",
   "mimetype": "text/x-python",
   "name": "python",
   "nbconvert_exporter": "python",
   "pygments_lexer": "ipython3",
   "version": "3.8.12"
  },
  "toc": {
   "base_numbering": 1,
   "nav_menu": {},
   "number_sections": true,
   "sideBar": true,
   "skip_h1_title": true,
   "title_cell": "Table of Contents",
   "title_sidebar": "Contents",
   "toc_cell": true,
   "toc_position": {},
   "toc_section_display": true,
   "toc_window_display": false
  }
 },
 "nbformat": 4,
 "nbformat_minor": 5
}
